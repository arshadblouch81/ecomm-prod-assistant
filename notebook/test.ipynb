{
 "cells": [
  {
   "cell_type": "code",
   "execution_count": 1,
   "id": "9a834b7a",
   "metadata": {},
   "outputs": [
    {
     "name": "stdout",
     "output_type": "stream",
     "text": [
      "testing\n"
     ]
    }
   ],
   "source": [
    "print('testing')"
   ]
  },
  {
   "cell_type": "code",
   "execution_count": 2,
   "id": "1a8fc301",
   "metadata": {},
   "outputs": [
    {
     "name": "stderr",
     "output_type": "stream",
     "text": [
      "d:\\LLMOPS Industry Projects\\ecomm-prod-assistant\\.venv\\lib\\site-packages\\tqdm\\auto.py:21: TqdmWarning: IProgress not found. Please update jupyter and ipywidgets. See https://ipywidgets.readthedocs.io/en/stable/user_install.html\n",
      "  from .autonotebook import tqdm as notebook_tqdm\n",
      "{\"timestamp\": \"2025-10-15T00:37:36.304021Z\", \"level\": \"info\", \"event\": \"OPENAI_API_KEY loaded from environment\"}\n",
      "{\"timestamp\": \"2025-10-15T00:37:36.305770Z\", \"level\": \"info\", \"event\": \"GOOGLE_API_KEY loaded from environment\"}\n",
      "{\"timestamp\": \"2025-10-15T00:37:36.307565Z\", \"level\": \"info\", \"event\": \"GROQ_API_KEY loaded from environment\"}\n",
      "{\"timestamp\": \"2025-10-15T00:37:36.310807Z\", \"level\": \"info\", \"event\": \"ASTRA_DB_API_ENDPOINT loaded from environment\"}\n",
      "{\"timestamp\": \"2025-10-15T00:37:36.312649Z\", \"level\": \"info\", \"event\": \"ASTRA_DB_APPLICATION_TOKEN loaded from environment\"}\n",
      "{\"timestamp\": \"2025-10-15T00:37:36.313809Z\", \"level\": \"info\", \"event\": \"ASTRA_DB_KEYSPACE loaded from environment\"}\n",
      "{\"config_keys\": [\"astra_db\", \"embedding_model\", \"retriever\", \"sql_server\", \"llm\", \"security\"], \"timestamp\": \"2025-10-15T00:37:36.320227Z\", \"level\": \"info\", \"event\": \"YAML config loaded\"}\n"
     ]
    }
   ],
   "source": [
    "\n",
    "import asyncio\n",
    "from langgraph.graph import StateGraph, START, END\n",
    "from typing import Literal, TypedDict, Annotated\n",
    "from langchain_core.messages import BaseMessage, HumanMessage, AIMessage\n",
    "from langchain_openai import ChatOpenAI\n",
    "from langgraph.checkpoint.sqlite import SqliteSaver\n",
    "from langgraph.graph.message import add_messages\n",
    "from langgraph.prebuilt import ToolNode, tools_condition\n",
    "from langchain_community.tools import DuckDuckGoSearchRun\n",
    "# from workflow.agentic_workflow_with_mcp_websearch import AgenticRAG\n",
    "from retriever.retrieval import Retriever  \n",
    "from retriever.conventional_retreiver import ConversationalRAG\n",
    "from langchain_core.tools import tool\n",
    "from dotenv import load_dotenv\n",
    "import sqlite3\n",
    "import requests\n",
    "import structlog\n",
    "import os\n",
    "from langchain.tools import Tool"
   ]
  },
  {
   "cell_type": "code",
   "execution_count": 3,
   "id": "d3d5a62a",
   "metadata": {},
   "outputs": [
    {
     "name": "stderr",
     "output_type": "stream",
     "text": [
      "{\"timestamp\": \"2025-10-15T00:38:45.993318Z\", \"level\": \"info\", \"event\": \"OPENAI_API_KEY loaded from environment\"}\n",
      "{\"timestamp\": \"2025-10-15T00:38:45.994635Z\", \"level\": \"info\", \"event\": \"GOOGLE_API_KEY loaded from environment\"}\n",
      "{\"timestamp\": \"2025-10-15T00:38:45.995903Z\", \"level\": \"info\", \"event\": \"GROQ_API_KEY loaded from environment\"}\n",
      "{\"timestamp\": \"2025-10-15T00:38:45.997184Z\", \"level\": \"info\", \"event\": \"ASTRA_DB_API_ENDPOINT loaded from environment\"}\n",
      "{\"timestamp\": \"2025-10-15T00:38:45.998932Z\", \"level\": \"info\", \"event\": \"ASTRA_DB_APPLICATION_TOKEN loaded from environment\"}\n",
      "{\"timestamp\": \"2025-10-15T00:38:46.000069Z\", \"level\": \"info\", \"event\": \"ASTRA_DB_KEYSPACE loaded from environment\"}\n",
      "{\"config_keys\": [\"astra_db\", \"embedding_model\", \"retriever\", \"sql_server\", \"llm\", \"security\"], \"timestamp\": \"2025-10-15T00:38:46.004747Z\", \"level\": \"info\", \"event\": \"YAML config loaded\"}\n"
     ]
    },
    {
     "name": "stdout",
     "output_type": "stream",
     "text": [
      "Environment variables loaded successfully.\n"
     ]
    },
    {
     "name": "stderr",
     "output_type": "stream",
     "text": [
      "{\"model\": \"text-embedding-3-small\", \"timestamp\": \"2025-10-15T00:38:46.016863Z\", \"level\": \"info\", \"event\": \"Loading embedding model\"}\n"
     ]
    },
    {
     "name": "stdout",
     "output_type": "stream",
     "text": [
      "Embedding model loaded successfully.\n"
     ]
    },
    {
     "name": "stderr",
     "output_type": "stream",
     "text": [
      "vector store default init, collection 'prodassistant'\n",
      "HTTP Request: POST https://api.openai.com/v1/embeddings \"HTTP/1.1 200 OK\"\n",
      "No valid keyspace found in environment variable.\n",
      "Detecting API environment 'prod' from supplied endpoint\n",
      "createCollection('prodassistant')\n",
      "HTTP Request: POST https://a4b8925e-916e-4401-83a3-fad09ce1f6fa-us-east-2.apps.astra.datastax.com/api/json/v1/default_keyspace \"HTTP/1.1 200 OK\"\n",
      "APICommander about to raise from: [{'message': \"Collection already exists: trying to create Collection ('prodassistant') with different settings\", 'errorCode': 'EXISTING_COLLECTION_DIFFERENT_SETTINGS', 'id': '1c127d02-ddab-46fa-9eb0-20f3dbb9e3b1', 'title': 'Collection already exists', 'family': 'REQUEST', 'scope': 'EMPTY'}]\n",
      "findCollections\n",
      "HTTP Request: POST https://a4b8925e-916e-4401-83a3-fad09ce1f6fa-us-east-2.apps.astra.datastax.com/api/json/v1/default_keyspace \"HTTP/1.1 200 OK\"\n",
      "finished findCollections\n",
      "d:\\LLMOPS Industry Projects\\ecomm-prod-assistant\\.venv\\lib\\site-packages\\langchain_astradb\\utils\\astradb.py:448: UserWarning: Astra DB collection 'prodassistant' is detected as having indexing turned on for all fields (either created manually or by older versions of this plugin). This implies stricter limitations on the amount of text each string in a document can store. Consider indexing anew on a fresh collection to be able to store longer texts. See https://github.com/langchain-ai/langchain-datastax/blob/main/libs/astradb/README.md#warnings-about-indexing for more details.\n",
      "  if not self._validate_indexing_policy(\n"
     ]
    },
    {
     "name": "stdout",
     "output_type": "stream",
     "text": [
      "AstraDB Vector Store initialized successfully.\n",
      "Retriever loaded successfully.\n"
     ]
    },
    {
     "name": "stderr",
     "output_type": "stream",
     "text": [
      "{\"provider\": \"openai\", \"model\": \"gpt-4o\", \"timestamp\": \"2025-10-15T00:38:49.054945Z\", \"level\": \"info\", \"event\": \"Loading LLM\"}\n"
     ]
    }
   ],
   "source": [
    "load_dotenv()\n",
    "log = structlog.get_logger()\n",
    "# -------------------\n",
    "# 1. LLM\n",
    "# -------------------\n",
    "llm = ChatOpenAI()\n",
    "\n",
    "retriever_obj = Retriever()\n",
    "retriever = retriever_obj.load_retriever()"
   ]
  },
  {
   "cell_type": "code",
   "execution_count": 4,
   "id": "7efe97eb",
   "metadata": {},
   "outputs": [],
   "source": [
    "def format_docs(docs) -> str:\n",
    "    \"\"\"Format retriever docs into readable context.\"\"\"\n",
    "    if not docs:\n",
    "        return \"\"\n",
    "    formatted_chunks = []\n",
    "    for d in docs:\n",
    "        meta = d.metadata or {}\n",
    "        formatted = (\n",
    "            f\"Title: {meta.get('product_title', 'N/A')}\\n\"\n",
    "            f\"Price: {meta.get('price', 'N/A')}\\n\"\n",
    "            f\"Rating: {meta.get('rating', 'N/A')}\\n\"\n",
    "            f\"Reviews:\\n{d.page_content.strip()}\"\n",
    "        )\n",
    "        formatted_chunks.append(formatted)\n",
    "    return \"\\n\\n---\\n\\n\".join(formatted_chunks)"
   ]
  },
  {
   "cell_type": "code",
   "execution_count": 5,
   "id": "79276480",
   "metadata": {},
   "outputs": [],
   "source": [
    "\n",
    "# -------------------\n",
    "# 2. Tools\n",
    "# -------------------\n",
    "# Tools\n",
    "search_tool = DuckDuckGoSearchRun(region=\"us-en\")\n",
    "\n",
    "@tool\n",
    "def calculator(first_num: float, second_num: float, operation: str) -> dict:\n",
    "    \"\"\"\n",
    "    Perform a basic arithmetic operation on two numbers.\n",
    "    Supported operations: add, sub, mul, div\n",
    "    \"\"\"\n",
    "    try:\n",
    "        if operation == \"add\":\n",
    "            result = first_num + second_num\n",
    "        elif operation == \"sub\":\n",
    "            result = first_num - second_num\n",
    "        elif operation == \"mul\":\n",
    "            result = first_num * second_num\n",
    "        elif operation == \"div\":\n",
    "            if second_num == 0:\n",
    "                return {\"error\": \"Division by zero is not allowed\"}\n",
    "            result = first_num / second_num\n",
    "        else:\n",
    "            return {\"error\": f\"Unsupported operation '{operation}'\"}\n",
    "        \n",
    "        return {\"first_num\": first_num, \"second_num\": second_num, \"operation\": operation, \"result\": result}\n",
    "    except Exception as e:\n",
    "        return {\"error\": str(e)}\n"
   ]
  },
  {
   "cell_type": "code",
   "execution_count": 6,
   "id": "b8548a54",
   "metadata": {},
   "outputs": [],
   "source": [
    "\n",
    "def chat_with_agentic_rag(msg: str) -> str:\n",
    "    \"\"\"\n",
    "    tool to search email history of support staff to find relevant information and answer to the support call and issues.\n",
    "    \n",
    "    \n",
    "    \"\"\"\n",
    "    try:\n",
    "        log.info(\"chat_with_agentic_rag called\", msg)\n",
    "        print(\"Calling Tool chat_with_agentic_rag\")\n",
    "        # retriever_obj = Retriever()\n",
    "        # retriever = retriever_obj.load_retriever()\n",
    "        # Import here to avoid circular imports\n",
    "        docs =  retriever.invoke(msg)   \n",
    "        print(\"Document retrieved\", len(docs))\n",
    "        context = format_docs(docs)\n",
    "        return context\n",
    "        \n",
    "        # rag_agent = AgenticRAG()\n",
    "        # answer = rag_agent.run(msg)\n",
    "        \n",
    "        # log.info(\"Agentic RAG response generated\", answer_length=len(answer))\n",
    "        # return answer\n",
    "        \n",
    "    except Exception as e:\n",
    "        log.error(\"Error in chat_with_agentic_rag\", error=str(e))\n",
    "        return f\"Error in agentic RAG: {str(e)}\""
   ]
  },
  {
   "cell_type": "code",
   "execution_count": 7,
   "id": "1cefd2af",
   "metadata": {},
   "outputs": [],
   "source": [
    "@tool    \n",
    "def format_message(messages:str) :\n",
    "    \"\"\"\n",
    "    Use this tool after receiving message from email tool chat_with_agentic_rag\n",
    "    check email history from message of support staff to find relevant information and answer to the support call and issues and formate the message.\n",
    "   \n",
    "    \n",
    "    \"\"\"\n",
    "    try:\n",
    "        print(\"formatting message\")\n",
    "                \n",
    "        prompt = \"\"\"\n",
    "         Reply one best Answer in proper professional email formate with below format and build message from given text {messages}\n",
    "         \n",
    "    \n",
    "            Hi [name of Customer if exists then show],\n",
    "            First say thanks on approaching us and regret message if user is facing some issue\n",
    "            In message body address to given problem, text, message in {messages}\n",
    "            \n",
    "            Say thanks again\n",
    "            \n",
    "            regards \n",
    "           \n",
    "            Adamas Chatobot\n",
    "           \n",
    "        \"\"\"\n",
    "        log.info(\"formatting email called\")\n",
    "        \n",
    "       \n",
    "        response = llm.invoke( prompt)\n",
    "        if response :\n",
    "            return {\"messages\": response.content}\n",
    "        else :\n",
    "            return {\"message\" : messages}\n",
    "        \n",
    "    except Exception as e:\n",
    "        log.error(\"Error in formatting email\", error=str(e))\n",
    "        return f\"Error in formatting email: {str(e)}\"\n",
    "\n"
   ]
  },
  {
   "cell_type": "code",
   "execution_count": 46,
   "id": "5e9b1c2a",
   "metadata": {},
   "outputs": [],
   "source": [
    "tools = [search_tool,  chat_with_agentic_rag, format_message]\n",
    "llm_with_tools = llm.bind_tools(tools)"
   ]
  },
  {
   "cell_type": "code",
   "execution_count": 10,
   "id": "8701e285",
   "metadata": {},
   "outputs": [],
   "source": [
    "\n",
    "# -------------------\n",
    "# 3. State\n",
    "# -------------------\n",
    "class ChatState(TypedDict):\n",
    "    messages: Annotated[list[BaseMessage], add_messages]\n",
    "\n",
    "# -------------------\n",
    "# 4. Nodes\n",
    "# -------------------\n",
    "def chat_node(state: ChatState):\n",
    "    \"\"\"LLM node that may answer or request a tool call. \n",
    "     call tool only once, format message from response coming from tool call\n",
    "     If no message returned by tool then just format regret message with proper format\"\"\"\n",
    "    messages = state[\"messages\"]\n",
    "    response = llm_with_tools.invoke(messages)\n",
    "    return {\"messages\": [response]}\n"
   ]
  },
  {
   "cell_type": "code",
   "execution_count": 40,
   "id": "24ccec7b",
   "metadata": {},
   "outputs": [],
   "source": [
    "def format_message_node(messages:str) :\n",
    "    \"\"\"\n",
    "    Use this tool after receiving message from email tool chat_with_agentic_rag\n",
    "    check email history from message of support staff to find relevant information and answer to the support call and issues and formate the message.\n",
    "   \n",
    "    \n",
    "    \"\"\"\n",
    "    try:\n",
    "        print(\"formatting message\")\n",
    "                \n",
    "        prompt = \"\"\"\n",
    "         Reply one best Answer in proper professional email formate with below format and build message from given text {messages}\n",
    "         \n",
    "    \n",
    "            Hi [name of Customer if exists then show],\n",
    "            First say thanks on approaching us and regret message if user is facing some issue\n",
    "            In message body address to given problem, text, message in {messages}\n",
    "            \n",
    "            Say thanks again\n",
    "            \n",
    "            regards \n",
    "           \n",
    "            Adamas Chatobot\n",
    "           \n",
    "        \"\"\"\n",
    "        log.info(\"formatting email called\")\n",
    "        \n",
    "       \n",
    "        response = llm.invoke( prompt)\n",
    "        if response :\n",
    "            return {\"messages\": response.content}\n",
    "        else :\n",
    "            return {\"message\" : messages}\n",
    "        \n",
    "    except Exception as e:\n",
    "        log.error(\"Error in formatting email\", error=str(e))\n",
    "        return f\"Error in formatting email: {str(e)}\"\n"
   ]
  },
  {
   "cell_type": "code",
   "execution_count": 16,
   "id": "597a24a9",
   "metadata": {},
   "outputs": [],
   "source": [
    "\n",
    "def should_continue(state: ChatState) -> Literal[\"tools\", \"end\"]:\n",
    "    messages = state[\"messages\"]\n",
    "    last_message = messages[-1]\n",
    "    \n",
    "    # If there are tool calls, route to tools\n",
    "    if hasattr(last_message, \"tool_calls\") and last_message.tool_calls:\n",
    "        return \"tools\"\n",
    "    # Otherwise, end\n",
    "    return \"end\""
   ]
  },
  {
   "cell_type": "code",
   "execution_count": 54,
   "id": "acfd69b3",
   "metadata": {},
   "outputs": [
    {
     "data": {
      "text/plain": [
       "<langgraph.graph.state.StateGraph at 0x23262a6a0b0>"
      ]
     },
     "execution_count": 54,
     "metadata": {},
     "output_type": "execute_result"
    }
   ],
   "source": [
    "tool_node = ToolNode(tools)\n",
    "\n",
    "# -------------------\n",
    "# 5. Checkpointer\n",
    "# -------------------\n",
    "conn = sqlite3.connect(database=\"chatbot.db\", check_same_thread=False)\n",
    "checkpointer = SqliteSaver(conn=conn)\n",
    "\n",
    "# -------------------\n",
    "# 6. Graph\n",
    "# -------------------\n",
    "# Build graph\n",
    "graph = StateGraph(ChatState)\n",
    "\n",
    "# Add nodes\n",
    "graph.add_node(\"chat_node\", chat_node)\n",
    "graph.add_node(\"tools\", tool_node)\n",
    "# graph.add_node(\"format_message_node\", format_message_node)\n",
    "\n",
    "\n",
    "# Add edges\n",
    "graph.add_edge(START, \"chat_node\")\n",
    "\n",
    "\n",
    "\n",
    "# Conditional edges: should_continue returns \"tools\" or \"end\"\n",
    "# The dictionary maps these return values to destinations\n",
    "graph.add_conditional_edges(\n",
    "    \"chat_node\",          # Source node\n",
    "    should_continue,      # Function that returns \"tools\" or \"end\"\n",
    "    {\n",
    "        \"tools\": \"tools\", # If returns \"tools\", go to \"tools\" node\n",
    "        \"end\": END        # If returns \"end\", go to END\n",
    "    }\n",
    ")\n",
    "\n",
    "# After tools execute, always go back to chat_node\n",
    "graph.add_edge(\"tools\", \"chat_node\")\n",
    "# graph.add_edge(\"chat_node\", \"format_message_node\")\n",
    "# graph.add_edge(\"format_message_node\", END)"
   ]
  },
  {
   "cell_type": "code",
   "execution_count": 55,
   "id": "df6eb158",
   "metadata": {},
   "outputs": [],
   "source": [
    "chatbot = graph.compile(checkpointer=checkpointer)\n"
   ]
  },
  {
   "cell_type": "code",
   "execution_count": 56,
   "id": "99597645",
   "metadata": {},
   "outputs": [
    {
     "data": {
      "image/png": "[encoded data removed]",
      "text/plain": [
       "<langgraph.graph.state.CompiledStateGraph object at 0x0000023264035210>"
      ]
     },
     "execution_count": 56,
     "metadata": {},
     "output_type": "execute_result"
    }
   ],
   "source": [
    "chatbot"
   ]
  },
  {
   "cell_type": "code",
   "execution_count": 58,
   "id": "1bee4593",
   "metadata": {},
   "outputs": [
    {
     "name": "stderr",
     "output_type": "stream",
     "text": [
      "HTTP Request: POST https://api.openai.com/v1/chat/completions \"HTTP/1.1 200 OK\"\n",
      "{\"error\": \"not all arguments converted during string formatting\", \"timestamp\": \"2025-10-15T01:38:58.888843Z\", \"level\": \"error\", \"event\": \"Error in chat_with_agentic_rag\"}\n",
      "HTTP Request: POST https://api.openai.com/v1/chat/completions \"HTTP/1.1 200 OK\"\n",
      "{\"error\": \"not all arguments converted during string formatting\", \"timestamp\": \"2025-10-15T01:39:00.430262Z\", \"level\": \"error\", \"event\": \"Error in chat_with_agentic_rag\"}\n",
      "HTTP Request: POST https://api.openai.com/v1/chat/completions \"HTTP/1.1 200 OK\"\n"
     ]
    },
    {
     "name": "stdout",
     "output_type": "stream",
     "text": [
      "formatting message\n"
     ]
    },
    {
     "name": "stderr",
     "output_type": "stream",
     "text": [
      "{\"timestamp\": \"2025-10-15T01:39:03.776875Z\", \"level\": \"info\", \"event\": \"formatting email called\"}\n",
      "HTTP Request: POST https://api.openai.com/v1/chat/completions \"HTTP/1.1 200 OK\"\n",
      "HTTP Request: POST https://api.openai.com/v1/chat/completions \"HTTP/1.1 200 OK\"\n"
     ]
    },
    {
     "name": "stdout",
     "output_type": "stream",
     "text": [
      "Here is a formatted message based on the email context:\n",
      "\n",
      "---\n",
      "\n",
      "Subject: Re: Assistance with Critical Server Connection Issue\n",
      "\n",
      "Hi,\n",
      "\n",
      "First of all, thank you for reaching out to us. We are sorry to hear that you are facing some issues.\n",
      "\n",
      "In regard to the problem you mentioned in your message \"RE: URGENT: Critical Server Connection Issue with App Version 25.08.001 [ITR:0015942]\", our team is working diligently to find a solution for you as quickly as possible. We understand how frustrating it can be to encounter difficulties, and we appreciate your patience.\n",
      "\n",
      "Thank you again for bringing this matter to our attention. If you have any further information or questions, please feel free to reach out.\n",
      "\n",
      "Regards,\n",
      "\n",
      "Adamas Chatobot\n",
      "\n",
      "---\n",
      "\n",
      "Please review the message before sending it to ensure it aligns with the context of the support call.\n"
     ]
    }
   ],
   "source": [
    "state = {\n",
    "        'messages': [\n",
    "            HumanMessage(\n",
    "                content=\"RE: URGENT: Critical Server Connection Issue with App Version 25.08.001 [ITR:0015942]?\"\n",
    "            )\n",
    "        ]\n",
    "    }\n",
    "# Add config with thread_id\n",
    "config = {\n",
    "    \"configurable\": {\n",
    "        \"thread_id\": \"conversation_101\"  # Unique identifier for this conversation\n",
    "    }\n",
    "}\n",
    "\n",
    "# Invoke with config\n",
    "result = chatbot.invoke(state, config=config)\n",
    "print(result[\"messages\"][-1].content)"
   ]
  }
 ],
 "metadata": {
  "kernelspec": {
   "display_name": "ecomm-prod-assistant",
   "language": "python",
   "name": "python3"
  },
  "language_info": {
   "codemirror_mode": {
    "name": "ipython",
    "version": 3
   },
   "file_extension": ".py",
   "mimetype": "text/x-python",
   "name": "python",
   "nbconvert_exporter": "python",
   "pygments_lexer": "ipython3",
   "version": "3.10.18"
  }
 },
 "nbformat": 4,
 "nbformat_minor": 5
}
